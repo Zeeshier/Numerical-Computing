{
 "cells": [
  {
   "cell_type": "markdown",
   "metadata": {},
   "source": [
    "# Guass Elimination Method"
   ]
  },
  {
   "cell_type": "code",
   "execution_count": 1,
   "metadata": {},
   "outputs": [
    {
     "name": "stdout",
     "output_type": "stream",
     "text": [
      "Solution: [ 1.88888889  0.77777778 -1.        ]\n"
     ]
    }
   ],
   "source": [
    "import numpy as np\n",
    "\n",
    "def gaussian_elimination(A, B):\n",
    "    n = len(B)\n",
    "    for i in range(n):\n",
    "        pivot = A[i, i]\n",
    "        if pivot == 0:\n",
    "            raise ValueError(\"Pivot element is zero, cannot proceed!\")\n",
    "        for j in range(i, n):\n",
    "            A[i, j] = A[i, j] / pivot\n",
    "        B[i] = B[i] / pivot\n",
    "\n",
    "        # Eliminate below\n",
    "        for k in range(i + 1, n):\n",
    "            factor = A[k, i]\n",
    "            for j in range(i, n):\n",
    "                A[k, j] -= factor * A[i, j]\n",
    "            B[k] -= factor * B[i]\n",
    "\n",
    "    x = np.zeros(n)\n",
    "    for i in range(n - 1, -1, -1):\n",
    "        x[i] = B[i]\n",
    "        for j in range(i + 1, n):\n",
    "            x[i] -= A[i, j] * x[j]\n",
    "    \n",
    "    return x\n",
    "\n",
    "# Example: Solve Ax = B\n",
    "A = np.array([[2, -1, 1],\n",
    "              [3, 3, 9],\n",
    "              [3, 3, 5]], dtype=float)\n",
    "\n",
    "B = np.array([2, -1, 3], dtype=float)\n",
    "\n",
    "solution = gaussian_elimination(A, B)\n",
    "print(\"Solution:\", solution)"
   ]
  }
 ],
 "metadata": {
  "kernelspec": {
   "display_name": "conda",
   "language": "python",
   "name": "python3"
  },
  "language_info": {
   "codemirror_mode": {
    "name": "ipython",
    "version": 3
   },
   "file_extension": ".py",
   "mimetype": "text/x-python",
   "name": "python",
   "nbconvert_exporter": "python",
   "pygments_lexer": "ipython3",
   "version": "3.12.4"
  }
 },
 "nbformat": 4,
 "nbformat_minor": 2
}
